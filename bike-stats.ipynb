{
 "cells": [
  {
   "cell_type": "markdown",
   "id": "530c7ed6-7ff9-44c5-a98f-c66cacaa4f35",
   "metadata": {},
   "source": [
    "# bike-stats\n",
    "## Mohammad AlKhatib\n",
    "#### 15/11/2021"
   ]
  },
  {
   "cell_type": "code",
   "execution_count": 1,
   "id": "86dc2fa4-41fa-4d24-9685-b316ba4b6c6b",
   "metadata": {},
   "outputs": [],
   "source": [
    "%matplotlib inline\n",
    "import matplotlib.pyplot as plt\n",
    "import pandas as pd\n",
    "from datetime import date\n",
    "import datetime"
   ]
  },
  {
   "cell_type": "code",
   "execution_count": 2,
   "id": "a68d9854-f2ca-4e26-9ec3-5982562716a5",
   "metadata": {},
   "outputs": [
    {
     "name": "stderr",
     "output_type": "stream",
     "text": [
      "b'Skipping line 50794: expected 12 fields, saw 20\\n'\n"
     ]
    }
   ],
   "source": [
    "tdf = pd.read_csv('trip.csv',error_bad_lines=False)\n",
    "wdf = pd.read_csv('weather.csv')\n",
    "sdf = pd.read_csv('station.csv')"
   ]
  },
  {
   "cell_type": "markdown",
   "id": "6300a733-f93b-4712-8528-60f7fa2e293b",
   "metadata": {},
   "source": [
    "## What is the average trip duration for a borrowed bicycle?"
   ]
  },
  {
   "cell_type": "code",
   "execution_count": 3,
   "id": "e6e24b73-616e-48c7-b665-f55c5100b214",
   "metadata": {},
   "outputs": [
    {
     "name": "stdout",
     "output_type": "stream",
     "text": [
      "Average trip duration = 1178.2956753399776\n"
     ]
    }
   ],
   "source": [
    "print ('Average trip duration =',tdf['tripduration'].mean())"
   ]
  },
  {
   "cell_type": "code",
   "execution_count": 4,
   "id": "61a64e41-466d-4208-8fe2-8bf9b0c460ae",
   "metadata": {},
   "outputs": [],
   "source": [
    "assert tdf['tripduration'].mean() == 1178.2956753399776"
   ]
  },
  {
   "cell_type": "markdown",
   "id": "c228e363-994b-4abb-abac-08baba7a9e84",
   "metadata": {},
   "source": [
    "## What’s the most common age of a bicycle-sharer?"
   ]
  },
  {
   "cell_type": "code",
   "execution_count": 5,
   "id": "2833abc9-bfca-41f7-a6e3-f41c2982c853",
   "metadata": {
    "tags": []
   },
   "outputs": [
    {
     "name": "stdout",
     "output_type": "stream",
     "text": [
      "Most common bicycle sharer is 34.0\n"
     ]
    }
   ],
   "source": [
    "print ('Most common bicycle sharer is', date.today().year - tdf['birthyear'].mode()[0])"
   ]
  },
  {
   "cell_type": "code",
   "execution_count": 13,
   "id": "c3c5bb96-63fc-4942-b9ba-1cd8f40d3dad",
   "metadata": {},
   "outputs": [],
   "source": [
    "assert date.today().year - tdf['birthyear'].mode()[0] == 34"
   ]
  },
  {
   "cell_type": "markdown",
   "id": "26208b3a-fa43-442c-9d66-f38c1e21ac7b",
   "metadata": {},
   "source": [
    "## Given all the weather data here, find the average precipitation per month, and the median precipitation."
   ]
  },
  {
   "cell_type": "code",
   "execution_count": 6,
   "id": "8eb341a4-67ed-47c8-b675-d3fd6e7d74b5",
   "metadata": {},
   "outputs": [
    {
     "name": "stdout",
     "output_type": "stream",
     "text": [
      "The Average Precipitation Per Month\n"
     ]
    },
    {
     "data": {
      "text/plain": [
       "year  month\n",
       "2014  10       0.300526\n",
       "      11       0.141667\n",
       "      12       0.145161\n",
       "2015  1        0.070645\n",
       "      2        0.163214\n",
       "      3        0.135161\n",
       "      4        0.056667\n",
       "      5        0.014194\n",
       "      6        0.005667\n",
       "      7        0.008710\n",
       "      8        0.035484\n",
       "      9        0.041000\n",
       "      10       0.120645\n",
       "      11       0.234000\n",
       "      12       0.327419\n",
       "2016  1        0.216452\n",
       "      2        0.173448\n",
       "      3        0.178710\n",
       "      4        0.046000\n",
       "      5        0.010645\n",
       "      6        0.055333\n",
       "      7        0.015484\n",
       "      8        0.000968\n",
       "Name: Precipitation_In, dtype: float64"
      ]
     },
     "execution_count": 6,
     "metadata": {},
     "output_type": "execute_result"
    }
   ],
   "source": [
    "def convert_date_year(date):\n",
    "    return datetime.datetime.strptime(date,'%m/%d/%Y').year\n",
    "\n",
    "def convert_date_month(date):\n",
    "    return datetime.datetime.strptime(date,'%m/%d/%Y').month\n",
    "wdf['month'] = wdf['Date'].apply(convert_date_month)\n",
    "wdf['year'] = wdf['Date'].apply(convert_date_year)\n",
    "new = wdf[['year','month','Precipitation_In']]\n",
    "print ('The Average Precipitation Per Month')\n",
    "new.groupby(['year', 'month'])['Precipitation_In'].mean()"
   ]
  },
  {
   "cell_type": "code",
   "execution_count": 7,
   "id": "a228926a-4366-498b-9142-367ce9d22cda",
   "metadata": {},
   "outputs": [
    {
     "name": "stdout",
     "output_type": "stream",
     "text": [
      "The Median Precipitation Per Month\n"
     ]
    },
    {
     "data": {
      "text/plain": [
       "year  month\n",
       "2014  10       0.140\n",
       "      11       0.010\n",
       "      12       0.010\n",
       "2015  1        0.010\n",
       "      2        0.025\n",
       "      3        0.000\n",
       "      4        0.000\n",
       "      5        0.000\n",
       "      6        0.000\n",
       "      7        0.000\n",
       "      8        0.000\n",
       "      9        0.000\n",
       "      10       0.010\n",
       "      11       0.065\n",
       "      12       0.120\n",
       "2016  1        0.070\n",
       "      2        0.080\n",
       "      3        0.060\n",
       "      4        0.000\n",
       "      5        0.000\n",
       "      6        0.000\n",
       "      7        0.000\n",
       "      8        0.000\n",
       "Name: Precipitation_In, dtype: float64"
      ]
     },
     "execution_count": 7,
     "metadata": {},
     "output_type": "execute_result"
    }
   ],
   "source": [
    "print ('The Median Precipitation Per Month')\n",
    "new.groupby(['year', 'month'])['Precipitation_In'].median()"
   ]
  },
  {
   "cell_type": "markdown",
   "id": "d198481c-caec-4e17-9188-e879d8a8c9dd",
   "metadata": {},
   "source": [
    "## What’s the average number of bikes at a given bike station?"
   ]
  },
  {
   "cell_type": "code",
   "execution_count": 8,
   "id": "24a4bc16-88b7-4eea-8255-93d0287c7169",
   "metadata": {},
   "outputs": [
    {
     "name": "stdout",
     "output_type": "stream",
     "text": [
      "The average number of bikes 17.586206896551722\n"
     ]
    }
   ],
   "source": [
    "print ('The average number of bikes',sdf['install_dockcount'].mean())"
   ]
  },
  {
   "cell_type": "code",
   "execution_count": 15,
   "id": "45936211-a06c-4508-bb96-6f73b3f48cd4",
   "metadata": {},
   "outputs": [],
   "source": [
    "assert sdf['install_dockcount'].mean() == 17.586206896551722"
   ]
  },
  {
   "cell_type": "markdown",
   "id": "94fcebe3-8999-43b6-93a3-f312962e0f26",
   "metadata": {},
   "source": [
    "## When a bike station is modified, is it more likely that it’ll lose bikes or gain bikes? How do you know?"
   ]
  },
  {
   "cell_type": "code",
   "execution_count": 9,
   "id": "2e10e21b-39f7-4133-af4d-76c884c9f80a",
   "metadata": {},
   "outputs": [
    {
     "name": "stdout",
     "output_type": "stream",
     "text": [
      "Avearage install dockcount for modified stations is 17.529411764705884\n",
      "Avearage current dockcount for modified stations is 13.764705882352942\n",
      "Modification will let a station lose bikes\n"
     ]
    }
   ],
   "source": [
    "new = sdf.dropna(subset=['modification_date'], inplace=False)\n",
    "print ('Avearage install dockcount for modified stations is', new['install_dockcount'].mean())\n",
    "print ('Avearage current dockcount for modified stations is', new['current_dockcount'].mean())\n",
    "print ('Modification will let a station lose bikes')"
   ]
  },
  {
   "cell_type": "markdown",
   "id": "3616b394-2f4d-474f-bdb4-fd2e5ffae1bf",
   "metadata": {},
   "source": [
    "## What is the average number of install dock counts?"
   ]
  },
  {
   "cell_type": "code",
   "execution_count": 10,
   "id": "737a23ec-2a90-43a3-b632-83cbf0454caf",
   "metadata": {},
   "outputs": [
    {
     "name": "stdout",
     "output_type": "stream",
     "text": [
      "The answer is 17.586206896551722\n"
     ]
    }
   ],
   "source": [
    "print ('The answer is', sdf['install_dockcount'].mean())"
   ]
  },
  {
   "cell_type": "markdown",
   "id": "d9e1d3f5-61e8-4c8d-aa06-405b04b7cb15",
   "metadata": {},
   "source": [
    "## What is the maximum recorded temp?"
   ]
  },
  {
   "cell_type": "code",
   "execution_count": 11,
   "id": "b152a238-ee90-4086-ad6e-7218dd5a70b9",
   "metadata": {},
   "outputs": [
    {
     "name": "stdout",
     "output_type": "stream",
     "text": [
      "The answer is 98\n"
     ]
    }
   ],
   "source": [
    "print ('The answer is', wdf['Max_Temperature_F'].max())"
   ]
  },
  {
   "cell_type": "markdown",
   "id": "54ceb267-2830-477f-93d8-4ee517228a6f",
   "metadata": {},
   "source": [
    "## What is the median recorded trip duration?"
   ]
  },
  {
   "cell_type": "code",
   "execution_count": 12,
   "id": "89358829-2da7-4805-b0cf-43a4b73d2f7f",
   "metadata": {},
   "outputs": [
    {
     "name": "stdout",
     "output_type": "stream",
     "text": [
      "The answer is 624.842\n"
     ]
    }
   ],
   "source": [
    "print ('The answer is', tdf['tripduration'].median())"
   ]
  },
  {
   "cell_type": "code",
   "execution_count": null,
   "id": "7cc72818-cbfe-4f33-ae91-bd63fb9f9672",
   "metadata": {},
   "outputs": [],
   "source": []
  }
 ],
 "metadata": {
  "kernelspec": {
   "display_name": "Python 3 (ipykernel)",
   "language": "python",
   "name": "python3"
  },
  "language_info": {
   "codemirror_mode": {
    "name": "ipython",
    "version": 3
   },
   "file_extension": ".py",
   "mimetype": "text/x-python",
   "name": "python",
   "nbconvert_exporter": "python",
   "pygments_lexer": "ipython3",
   "version": "3.9.5"
  }
 },
 "nbformat": 4,
 "nbformat_minor": 5
}
